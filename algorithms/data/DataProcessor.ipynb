{
 "cells": [
  {
   "cell_type": "markdown",
   "metadata": {},
   "source": [
    " # Twitter Sentiment Analysis dataset processor"
   ]
  },
  {
   "cell_type": "code",
   "execution_count": 1,
   "metadata": {
    "collapsed": true
   },
   "outputs": [],
   "source": [
    "from matplotlib import pyplot as plt\n",
    "\n",
    "import numpy as np\n",
    "\n",
    "import math\n",
    "import csv"
   ]
  },
  {
   "cell_type": "markdown",
   "metadata": {},
   "source": [
    "## Utilities"
   ]
  },
  {
   "cell_type": "code",
   "execution_count": 2,
   "metadata": {
    "collapsed": true
   },
   "outputs": [],
   "source": [
    "def get_sentences_per_label(dataset_filename):\n",
    "    positive_statements = []\n",
    "    negative_statements = []\n",
    "\n",
    "    with open(dataset_filename, 'r', encoding='utf-8') as csv_file:\n",
    "        csv_reader = csv.reader(csv_file, delimiter=',')\n",
    "        next(csv_reader)\n",
    "\n",
    "        for sentence_counter, sentence in enumerate(csv_reader, 1):\n",
    "            sentiment = sentence[1]\n",
    "            if sentiment == '0':\n",
    "                negative_statements.append(sentence_counter)\n",
    "            elif sentiment == '1':\n",
    "                positive_statements.append(sentence_counter)\n",
    "            else:\n",
    "                print('Unexpected sentiment value {}'.format(sentiment))\n",
    "    \n",
    "    return positive_statements, negative_statements"
   ]
  },
  {
   "cell_type": "markdown",
   "metadata": {},
   "source": [
    "## Dataset splitting"
   ]
  },
  {
   "cell_type": "code",
   "execution_count": 3,
   "metadata": {
    "collapsed": true
   },
   "outputs": [],
   "source": [
    "# CONSTANTS\n",
    "TRAIN_DATASET_FACTOR = 0.5          # TODO\n",
    "TEST_DATASET_FACTOR = 0.4           # TODO\n",
    "\n",
    "MOBILE_DATASETS_NUMBER = 3          # TODO\n",
    "MOBILE_DATASET_FACTOR = 0.3         # TODO\n",
    "\n",
    "# UTILITIES\n",
    "def clean_statement(statement):\n",
    "    # TODO:\n",
    "    #   - convert to lowercase\n",
    "    #   - strip whitespaces,\n",
    "    #   - handle hashtags (#),\n",
    "    #   - handle emoticons (consider e.g. \"< 33\", \":)\" and \":O\"),\n",
    "    #   - remove mentions (@),\n",
    "    #   - remove insignificant punctuation (watch out for things like \"I'm\" and \"How's\", however \"'s\" in \"Tom's house\" should be removed),\n",
    "    #   - remove special characters (e.g. &amp;, < b >).\n",
    "    # In general, try to search for sth like regexp for english words.\n",
    "    return statement"
   ]
  },
  {
   "cell_type": "code",
   "execution_count": 4,
   "metadata": {},
   "outputs": [
    {
     "name": "stdout",
     "output_type": "stream",
     "text": [
      "File train.csv saved.\n",
      "File test.csv saved.\n",
      "File mobile_1.csv saved.\n",
      "File mobile_2.csv saved.\n",
      "File mobile_3.csv saved.\n"
     ]
    }
   ],
   "source": [
    "def split_dataset():\n",
    "    def create_dataset(available_statements, factor, csv_reader, output_filename, should_clean_statements, remove_chosen_statements): \n",
    "        chosen_positive = np.random.choice(available_statements[0], math.ceil(factor * len(available_statements[0])), replace=False)\n",
    "        chosen_negative = np.random.choice(available_statements[1], math.ceil(factor * len(available_statements[1])), replace=False)\n",
    "        chosen_shuffled = np.concatenate((chosen_positive, chosen_negative))\n",
    "        np.random.shuffle(chosen_shuffled)\n",
    "        \n",
    "        with open(output_filename, 'w', encoding='utf-8', newline='') as output_file:\n",
    "            csv_writer = csv.writer(output_file, delimiter=',')\n",
    "            for statement_index in chosen_shuffled:\n",
    "                statement = csv_reader[statement_index]\n",
    "                csv_writer.writerow([statement[1], clean_statement(statement[3]) if should_clean_statements else statement[3]])\n",
    "        print('File {} saved.'.format(output_filename))\n",
    "        \n",
    "        if remove_chosen_statements:\n",
    "            list_difference = lambda first, second: list(set(first) - set(second))\n",
    "            return list_difference(available_statements[0], chosen_positive.tolist()), list_difference(available_statements[1], chosen_negative.tolist())\n",
    "        return available_statements[0], available_statements[1]\n",
    "    \n",
    "    \n",
    "    positive_statements, negative_statements = get_sentences_per_label('dataset.csv')    \n",
    "    with open('dataset.csv', 'r', encoding='utf-8') as dataset_file:\n",
    "        csv_reader = list(csv.reader(dataset_file, delimiter=','))\n",
    "        positive_statements, negative_statements = create_dataset((positive_statements, negative_statements), TRAIN_DATASET_FACTOR, csv_reader, 'train.csv', True, True)\n",
    "        positive_statements, negative_statements = create_dataset((positive_statements, negative_statements), TEST_DATASET_FACTOR, csv_reader, 'test.csv', True, True)\n",
    "        for mobile_dataset_index in range(1, MOBILE_DATASETS_NUMBER + 1):\n",
    "            positive_statements, negative_statements = create_dataset((positive_statements, negative_statements), MOBILE_DATASET_FACTOR, csv_reader, 'mobile_{}.csv'.format(mobile_dataset_index), True, False)\n",
    "\n",
    "\n",
    "split_dataset()"
   ]
  },
  {
   "cell_type": "markdown",
   "metadata": {},
   "source": [
    "## Dataset analysis"
   ]
  },
  {
   "cell_type": "code",
   "execution_count": 5,
   "metadata": {
    "collapsed": true
   },
   "outputs": [],
   "source": [
    "def analyse_dataset(dataset_filename, has_header=True):\n",
    "    positive_statements, negative_statements = get_sentences_per_label(dataset_filename)\n",
    "    total_statements = len(positive_statements) + len(negative_statements)\n",
    "    \n",
    "    # CLASSES DISTRIBUTION\n",
    "    barchart = plt.bar([0, 1], [len(positive_statements) / total_statements, len(negative_statements) / total_statements], tick_label=['positive', 'negative'])\n",
    "    \n",
    "    for bar in barchart:\n",
    "        height = bar.get_height()\n",
    "        plt.text(bar.get_x() + 0.3, height + 0.005, \"{:.5f}\".format(height))\n",
    "    plt.title('Classes distribution')\n",
    "    plt.xlabel('Class')\n",
    "    plt.ylabel('Participation in the dataset')\n",
    "    plt.show()\n",
    "    \n",
    "    print('Positive statements: {} ({:.5f}%).'.format(len(positive_statements), len(positive_statements) / total_statements))\n",
    "    print('Negative statements: {} ({:.5f}%).'.format(len(negative_statements), len(negative_statements) / total_statements))\n",
    "    print('Total statements: {}.'.format(total_statements))\n",
    "    \n",
    "    # WORDS STATISTICS\n",
    "    with open(dataset_filename, 'r', encoding='utf-8') as csv_file:\n",
    "        csv_reader = csv.reader(csv_file, delimiter=',')\n",
    "        if has_header:\n",
    "            next(csv_reader)\n",
    "        \n",
    "        words_count = []\n",
    "        for sentence in csv_reader:\n",
    "            words_count.append(len(sentence[3].split()))\n",
    "    \n",
    "    plt.hist(words_count, max(words_count))\n",
    "    \n",
    "    plt.title('Words count histogram')\n",
    "    plt.xlabel('Words count')\n",
    "    plt.ylabel('Frequency')\n",
    "    plt.show()\n",
    "    \n",
    "    print('Maximal number of words: {}.'.format(max(words_count)))\n",
    "    print('Average number of words: {:.2f}.'.format(sum(words_count) / len(words_count)))\n",
    "    \n",
    "    sorted_words_count = sorted(words_count)\n",
    "    quartile_index = len(words_count) // 4\n",
    "    print('First quartile: {}, second quartile (median): {}, third quartile: {}.'.format(sorted_words_count[quartile_index], sorted_words_count[2 * quartile_index], sorted_words_count[3 * quartile_index]))"
   ]
  },
  {
   "cell_type": "code",
   "execution_count": 6,
   "metadata": {
    "scrolled": false
   },
   "outputs": [
    {
     "data": {
      "image/png": "[encoded data removed]",
      "text/plain": [
       "<matplotlib.figure.Figure at 0x26d747baeb8>"
      ]
     },
     "metadata": {},
     "output_type": "display_data"
    },
    {
     "name": "stdout",
     "output_type": "stream",
     "text": [
      "Positive statements: 790185 (0.50055%).\n",
      "Negative statements: 788442 (0.49945%).\n",
      "Total statements: 1578627.\n"
     ]
    },
    {
     "data": {
      "image/png": "[encoded data removed]",
      "text/plain": [
       "<matplotlib.figure.Figure at 0x26d02a7e438>"
      ]
     },
     "metadata": {},
     "output_type": "display_data"
    },
    {
     "name": "stdout",
     "output_type": "stream",
     "text": [
      "Maximal number of words: 64.\n",
      "Average number of words: 13.27.\n",
      "First quartile: 8, second quartile (median): 12, third quartile: 19.\n"
     ]
    }
   ],
   "source": [
    "analyse_dataset('dataset.csv')"
   ]
  },
  {
   "cell_type": "code",
   "execution_count": null,
   "metadata": {
    "collapsed": true
   },
   "outputs": [],
   "source": []
  }
 ],
 "metadata": {
  "kernelspec": {
   "display_name": "Python 3",
   "language": "python",
   "name": "python3"
  },
  "language_info": {
   "codemirror_mode": {
    "name": "ipython",
    "version": 3
   },
   "file_extension": ".py",
   "mimetype": "text/x-python",
   "name": "python",
   "nbconvert_exporter": "python",
   "pygments_lexer": "ipython3",
   "version": "3.6.2"
  }
 },
 "nbformat": 4,
 "nbformat_minor": 2
}
