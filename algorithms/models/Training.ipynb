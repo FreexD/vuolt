{
 "cells": [
  {
   "cell_type": "markdown",
   "metadata": {},
   "source": [
    "# Sentiment analysis using LSTM networks and TensorFlow\n",
    "### Based on the following [O'Reilly Tutorial](https://www.oreilly.com/learning/perform-sentiment-analysis-with-lstms-using-tensorflow)."
   ]
  },
  {
   "cell_type": "code",
   "execution_count": 1,
   "metadata": {
    "collapsed": true
   },
   "outputs": [],
   "source": [
    "import numpy as np\n",
    "import tensorflow as tf\n",
    "\n",
    "import csv\n",
    "import datetime"
   ]
  },
  {
   "cell_type": "code",
   "execution_count": 2,
   "metadata": {
    "collapsed": true
   },
   "outputs": [],
   "source": [
    "# CONSTANTS\n",
    "TRAINING_SAMPLES = 789314\n",
    "MAX_WORDS_PER_SENTENCE = 64"
   ]
  },
  {
   "cell_type": "markdown",
   "metadata": {},
   "source": [
    "## Utilities"
   ]
  },
  {
   "cell_type": "code",
   "execution_count": 3,
   "metadata": {
    "collapsed": true
   },
   "outputs": [],
   "source": [
    "def save_numpy_array(filename, array):\n",
    "    np.save(filename, array)\n",
    "\n",
    "def load_numpy_array(filename):\n",
    "    return np.load(filename)"
   ]
  },
  {
   "cell_type": "markdown",
   "metadata": {},
   "source": [
    "## Word embeddigns - GloVe's `Word2Vec`"
   ]
  },
  {
   "cell_type": "code",
   "execution_count": 4,
   "metadata": {
    "collapsed": true,
    "scrolled": true
   },
   "outputs": [],
   "source": [
    "# The list of 400'000 words defined within this Word2Vec model\n",
    "words_list = [word.decode('UTF-8') for word in load_numpy_array('wordsList.npy')]\n",
    "# The i-th vector represents the i-th word from the words_list, each vector is composed of 50 dimensions\n",
    "word_vectors = load_numpy_array('wordVectors.npy')"
   ]
  },
  {
   "cell_type": "markdown",
   "metadata": {},
   "source": [
    "## Identities matrix"
   ]
  },
  {
   "cell_type": "code",
   "execution_count": 5,
   "metadata": {},
   "outputs": [],
   "source": [
    "# Each row of the indetities matrix represents single sentence, while columns contain IDs of its consecutive words obtained\n",
    "# from the words_list.\n",
    "def build_identities_matrix(training_dataset_filename, identities_matrix_filename, labels_matrix_filename):\n",
    "    identities = np.zeros((TRAINING_SAMPLES, MAX_WORDS_PER_SENTENCE), dtype='int32')\n",
    "    training_labels = np.zeros((TRAINING_SAMPLES, 2), dtype='float32')\n",
    "\n",
    "    with open(training_dataset_filename, 'r', encoding='utf-8') as csv_file:\n",
    "        csv_reader = csv.reader(csv_file, delimiter=',')\n",
    "        \n",
    "        for sentence_index, sentence in enumerate(csv_reader, 0):\n",
    "            splitted_sentence = sentence[1].split()\n",
    "            for word_index, word in enumerate(splitted_sentence, 0):\n",
    "                try:\n",
    "                    identities[sentence_index, word_index] = words_list.index(word)\n",
    "                except ValueError:\n",
    "                    # If this word is not defined within the Word2Vec model, we put the last vector representing unknown words.\n",
    "                    identities[sentence_index, word_index] = len(words_list) - 1\n",
    "            if sentence[0] == '0':\n",
    "                training_labels[sentence_index, :] = [0, 1]\n",
    "            else:\n",
    "                training_labels[sentence_index, :] = [1, 0]\n",
    "            \n",
    "            if (sentence_index + 1) % (TRAINING_SAMPLES // 10) == 0:\n",
    "                print('#')\n",
    "            elif (sentence_index + 1) % (TRAINING_SAMPLES // 500) == 0:\n",
    "                print('#', end='')\n",
    "    \n",
    "    save_numpy_array(identities_matrix_filename, identities)\n",
    "    save_numpy_array(labels_matrix_filename, training_labels)\n",
    "\n",
    "\n",
    "# build_identities_matrix('train.csv', 'idsMatrix_train', 'labelsMatrix_train')\n",
    "identities_matrix = load_numpy_array('idsMatrix_train.npy')\n",
    "training_labels_matrix = load_numpy_array('labelsMatrix_train.npy')"
   ]
  },
  {
   "cell_type": "markdown",
   "metadata": {},
   "source": [
    "## LSTM model"
   ]
  },
  {
   "cell_type": "code",
   "execution_count": 6,
   "metadata": {
    "collapsed": true
   },
   "outputs": [],
   "source": [
    "# CONSTANTS\n",
    "LSTM_UNITS = 64\n",
    "BATCH_SIZE = 32"
   ]
  },
  {
   "cell_type": "code",
   "execution_count": 7,
   "metadata": {
    "collapsed": true
   },
   "outputs": [],
   "source": [
    "tf.reset_default_graph()\n",
    "\n",
    "# Placeholders for training input data.\n",
    "batch_placeholder = tf.placeholder(tf.int32, (BATCH_SIZE, MAX_WORDS_PER_SENTENCE))\n",
    "labels_placeholder = tf.placeholder(tf.float32, (BATCH_SIZE, 2))\n",
    "\n",
    "# Converting the batch input to a 3D tensor of shape (BATCH_SIZE, MAX_WORDS_PER_SENTENCE, Word2Vec vector length).\n",
    "batch_input_tensor = tf.Variable(tf.zeros((BATCH_SIZE, MAX_WORDS_PER_SENTENCE, 50), dtype=tf.float32))\n",
    "batch_input_tensor = tf.nn.embedding_lookup(word_vectors, batch_placeholder)\n",
    "\n",
    "# Creating LSTM cells inside a Dropout layer.\n",
    "lstm_cell = tf.contrib.rnn.BasicLSTMCell(LSTM_UNITS)\n",
    "lstm_cell = tf.contrib.rnn.DropoutWrapper(cell=lstm_cell, output_keep_prob=0.75)\n",
    "\n",
    "# Combining the input with the LSTM layer.\n",
    "output_tensor, _ = tf.nn.dynamic_rnn(lstm_cell, batch_input_tensor, dtype=tf.float32)\n",
    "\n",
    "# Creating the output layer.\n",
    "weight_matrix = tf.Variable(tf.truncated_normal((LSTM_UNITS, 2)))\n",
    "bias_neurons = tf.Variable(tf.constant(0.1, shape=(2,)))\n",
    "# Transposing output_tensor to shape (MAX_WORDS_PER_SENTENCE, BATCH_SIZE, LSTM_UNITS)\n",
    "output_tensor = tf.transpose(output_tensor, [1, 0, 2])\n",
    "# Creating the activation tensor of shape (BATCH_SIZE, LSTM_UNITS), to be multiplied by the weight_matrix.\n",
    "output_activation_tensor = tf.gather(output_tensor, int(output_tensor.get_shape()[0]) - 1)\n",
    "prediction = (tf.matmul(output_activation_tensor, weight_matrix) + bias_neurons)"
   ]
  },
  {
   "cell_type": "code",
   "execution_count": 24,
   "metadata": {
    "collapsed": true
   },
   "outputs": [],
   "source": [
    "# Training evaluation metrics.\n",
    "is_prediction_correct = tf.equal(tf.argmax(prediction, 1), tf.argmax(labels_placeholder, 1))\n",
    "prediction_accuracy = tf.reduce_mean(tf.cast(is_prediction_correct, tf.float32))\n",
    "\n",
    "# Putting a binary softmax classifier on the final prediction value, with standard cross-entropy cost.\n",
    "loss = tf.reduce_mean(tf.nn.softmax_cross_entropy_with_logits(logits=prediction, labels=labels_placeholder))\n",
    "# Choosing the Adam gradient optimizer.\n",
    "gradient_optimizer = tf.train.AdamOptimizer(learning_rate=0.000001).minimize(loss)"
   ]
  },
  {
   "cell_type": "markdown",
   "metadata": {},
   "source": [
    "## Training"
   ]
  },
  {
   "cell_type": "code",
   "execution_count": null,
   "metadata": {},
   "outputs": [],
   "source": [
    "# CONSTANTS\n",
    "TRAINING_ITERATIONS = 100000\n",
    "\n",
    "# UTILITIES\n",
    "session = tf.InteractiveSession()\n",
    "\n",
    "def get_batch():\n",
    "    batch = np.zeros((BATCH_SIZE, MAX_WORDS_PER_SENTENCE), dtype='int32')\n",
    "    labels = np.zeros((BATCH_SIZE, 2), dtype='float32')\n",
    "    \n",
    "    # Note: Randomization with equal probabilities does not preserve the proportions of labels in the training dataset.\n",
    "    batch_members = np.random.choice(TRAINING_SAMPLES, BATCH_SIZE, replace=False)\n",
    "    for batch_index, sentence_index in enumerate(batch_members, 0):\n",
    "        batch[batch_index, :] = identities_matrix[sentence_index]\n",
    "        labels[batch_index, :] = training_labels_matrix[sentence_index]    \n",
    "    return batch, labels\n",
    "\n",
    "\n",
    "def load_pretrained_network(checkpoint_saver, models_directory):\n",
    "    checkpoint_saver.restore(session, tf.train.latest_checkpoint(models_directory))\n",
    "\n",
    "\n",
    "def initialize_network():\n",
    "    session.run(tf.global_variables_initializer())\n",
    "\n",
    "\n",
    "# TENSORBOARD CONFIGURATION\n",
    "tf.summary.scalar('Loss', loss)\n",
    "tf.summary.scalar('Accuracy', prediction_accuracy)\n",
    "merged_summary = tf.summary.merge_all()\n",
    "\n",
    "logdir = \"tensorboard/\" + datetime.datetime.now().strftime(\"%Y%m%d-%H%M%S\") + \"/\"\n",
    "writer = tf.summary.FileWriter(logdir, session.graph)"
   ]
  },
  {
   "cell_type": "code",
   "execution_count": null,
   "metadata": {},
   "outputs": [],
   "source": [
    "checkpoint_saver = tf.train.Saver()\n",
    "\n",
    "# load_pretrained_network(checkpoint_saver, 'models')\n",
    "initialize_network()\n",
    "\n",
    "for iteration in range(1, TRAINING_ITERATIONS + 1):\n",
    "    batch, labels = get_batch();\n",
    "    session.run(gradient_optimizer, {batch_placeholder: batch, labels_placeholder: labels})\n",
    "    \n",
    "    if iteration % 50 == 0:\n",
    "        summary = session.run(merged_summary, {batch_placeholder: batch, labels_placeholder: labels})\n",
    "        writer.add_summary(summary, iteration)\n",
    "    \n",
    "    if iteration % 10000 == 0:\n",
    "        save_path = checkpoint_saver.save(session, \"models/pretrained_lstm.ckpt\", global_step=iteration)\n",
    "        print(\"Checkpoint saved to: %s.\" % save_path)\n",
    "\n",
    "writer.close()"
   ]
  },
  {
   "cell_type": "code",
   "execution_count": null,
   "metadata": {
    "collapsed": true
   },
   "outputs": [],
   "source": []
  }
 ],
 "metadata": {
  "kernelspec": {
   "display_name": "Python 3",
   "language": "python",
   "name": "python3"
  },
  "language_info": {
   "codemirror_mode": {
    "name": "ipython",
    "version": 3
   },
   "file_extension": ".py",
   "mimetype": "text/x-python",
   "name": "python",
   "nbconvert_exporter": "python",
   "pygments_lexer": "ipython3",
   "version": "3.6.2"
  }
 },
 "nbformat": 4,
 "nbformat_minor": 2
}
