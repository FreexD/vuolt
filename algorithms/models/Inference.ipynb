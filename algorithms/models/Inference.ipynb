{
 "cells": [
  {
   "cell_type": "markdown",
   "metadata": {},
   "source": [
    "# Inference on the LSTM network"
   ]
  },
  {
   "cell_type": "code",
   "execution_count": 1,
   "metadata": {
    "collapsed": true
   },
   "outputs": [],
   "source": [
    "import numpy as np\n",
    "import tensorflow as tf\n",
    "\n",
    "import csv"
   ]
  },
  {
   "cell_type": "code",
   "execution_count": 2,
   "metadata": {
    "collapsed": true
   },
   "outputs": [],
   "source": [
    "# CONSTANTS\n",
    "TESTING_SAMPLES = 315726\n",
    "MAX_WORDS_PER_SENTENCE = 64\n",
    "BATCH_SIZE = 64\n",
    "LSTM_UNITS = 32"
   ]
  },
  {
   "cell_type": "markdown",
   "metadata": {},
   "source": [
    "## Utilities"
   ]
  },
  {
   "cell_type": "code",
   "execution_count": 3,
   "metadata": {
    "collapsed": true
   },
   "outputs": [],
   "source": [
    "def save_numpy_array(filename, array):\n",
    "    np.save(filename, array)\n",
    "\n",
    "def load_numpy_array(filename):\n",
    "    return np.load(filename)"
   ]
  },
  {
   "cell_type": "markdown",
   "metadata": {},
   "source": [
    "## Word embeddigns - GloVe's `Word2Vec`"
   ]
  },
  {
   "cell_type": "code",
   "execution_count": 4,
   "metadata": {
    "collapsed": true
   },
   "outputs": [],
   "source": [
    "words_list = [word.decode('UTF-8') for word in load_numpy_array('wordsList.npy')]\n",
    "word_vectors = load_numpy_array('wordVectors.npy')"
   ]
  },
  {
   "cell_type": "markdown",
   "metadata": {},
   "source": [
    "## LSTM model"
   ]
  },
  {
   "cell_type": "code",
   "execution_count": 5,
   "metadata": {
    "collapsed": true
   },
   "outputs": [],
   "source": [
    "tf.reset_default_graph()\n",
    "\n",
    "# Placeholders for training input data.\n",
    "batch_placeholder = tf.placeholder(tf.int32, (BATCH_SIZE, MAX_WORDS_PER_SENTENCE))\n",
    "labels_placeholder = tf.placeholder(tf.float32, (BATCH_SIZE, 2))\n",
    "\n",
    "# Converting the batch input to a 3D tensor of shape (BATCH_SIZE, MAX_WORDS_PER_SENTENCE, Word2Vec vector length).\n",
    "batch_input_tensor = tf.Variable(tf.zeros((BATCH_SIZE, MAX_WORDS_PER_SENTENCE, 50), dtype=tf.float32))\n",
    "batch_input_tensor = tf.nn.embedding_lookup(word_vectors, batch_placeholder)\n",
    "\n",
    "# Creating LSTM cells inside a Dropout layer.\n",
    "lstm_cell = tf.contrib.rnn.BasicLSTMCell(LSTM_UNITS)\n",
    "lstm_cell = tf.contrib.rnn.DropoutWrapper(cell=lstm_cell, output_keep_prob=0.75)\n",
    "\n",
    "# Combining the input with the LSTM layer.\n",
    "output_tensor, _ = tf.nn.dynamic_rnn(lstm_cell, batch_input_tensor, dtype=tf.float32)\n",
    "\n",
    "# Creating the output layer.\n",
    "weight_matrix = tf.Variable(tf.truncated_normal((LSTM_UNITS, 2)))\n",
    "bias_neurons = tf.Variable(tf.constant(0.1, shape=(2,)))\n",
    "# Transposing output_tensor to shape (MAX_WORDS_PER_SENTENCE, BATCH_SIZE, LSTM_UNITS)\n",
    "output_tensor = tf.transpose(output_tensor, [1, 0, 2])\n",
    "# Creating the activation tensor of shape (BATCH_SIZE, LSTM_UNITS), to be multiplied by the weight_matrix.\n",
    "output_activation_tensor = tf.gather(output_tensor, int(output_tensor.get_shape()[0]) - 1)\n",
    "prediction = (tf.matmul(output_activation_tensor, weight_matrix) + bias_neurons)\n",
    "\n",
    "# Training evaluation metrics.\n",
    "is_prediction_correct = tf.equal(tf.argmax(prediction, 1), tf.argmax(labels_placeholder, 1))\n",
    "prediction_accuracy = tf.reduce_mean(tf.cast(is_prediction_correct, tf.float32))"
   ]
  },
  {
   "cell_type": "code",
   "execution_count": 6,
   "metadata": {},
   "outputs": [
    {
     "name": "stdout",
     "output_type": "stream",
     "text": [
      "INFO:tensorflow:Restoring parameters from models\\pretrained_lstm.ckpt-50000\n"
     ]
    }
   ],
   "source": [
    "session = tf.InteractiveSession()\n",
    "checkpoint_saver = tf.train.Saver()\n",
    "checkpoint_saver.restore(session, tf.train.latest_checkpoint('models'))"
   ]
  },
  {
   "cell_type": "markdown",
   "metadata": {},
   "source": [
    "## Inference"
   ]
  },
  {
   "cell_type": "code",
   "execution_count": 7,
   "metadata": {
    "collapsed": true
   },
   "outputs": [],
   "source": [
    "# UTILITIES\n",
    "def build_identities_matrix(dataset_filename, identities_matrix_filename, labels_matrix_filename):\n",
    "    identities = np.zeros((TESTING_SAMPLES, MAX_WORDS_PER_SENTENCE), dtype='int32')\n",
    "    labels = np.zeros((TESTING_SAMPLES, 2), dtype='float32')\n",
    "\n",
    "    with open(dataset_filename, 'r', encoding='utf-8') as csv_file:\n",
    "        csv_reader = csv.reader(csv_file, delimiter=',')\n",
    "        \n",
    "        for sentence_index, sentence in enumerate(csv_reader, 0):\n",
    "            splitted_sentence = sentence[1].split()\n",
    "            for word_index, word in enumerate(splitted_sentence, 0):\n",
    "                try:\n",
    "                    identities[sentence_index, word_index] = words_list.index(word)\n",
    "                except ValueError:\n",
    "                    identities[sentence_index, word_index] = len(words_list) - 1\n",
    "            if sentence[0] == '0':\n",
    "                labels[sentence_index, :] = [0, 1]\n",
    "            else:\n",
    "                labels[sentence_index, :] = [1, 0]\n",
    "            \n",
    "            if (sentence_index + 1) % (TESTING_SAMPLES // 10) == 0:\n",
    "                print('#')\n",
    "            elif (sentence_index + 1) % (TESTING_SAMPLES // 500) == 0:\n",
    "                print('#', end='')\n",
    "    \n",
    "    save_numpy_array(identities_matrix_filename, identities)\n",
    "    save_numpy_array(labels_matrix_filename, labels)\n",
    "\n",
    "\n",
    "def get_batches(identities, labels):\n",
    "    identities_batches = [identities[batch_start_index : batch_start_index + BATCH_SIZE, :] for batch_start_index in range(0, TESTING_SAMPLES, BATCH_SIZE)]\n",
    "    labels_batches = [labels[batch_start_index : batch_start_index + BATCH_SIZE, :] for batch_start_index in range(0, TESTING_SAMPLES, BATCH_SIZE)]    \n",
    "    if TESTING_SAMPLES % BATCH_SIZE != 0:\n",
    "        identities_batches[-1] = np.pad(identities_batches[-1], [(0, BATCH_SIZE - identities_batches[-1].shape[0]), (0, 0)], mode='constant', constant_values=0)\n",
    "        labels_batches[-1] = np.pad(labels_batches[-1], [(0, BATCH_SIZE - labels_batches[-1].shape[0]), (0, 0)], mode='constant', constant_values=0)    \n",
    "    return identities_batches, labels_batches"
   ]
  },
  {
   "cell_type": "code",
   "execution_count": 9,
   "metadata": {},
   "outputs": [
    {
     "name": "stdout",
     "output_type": "stream",
     "text": [
      "##################################################\n",
      "Incorrect predictions: 0 (0.00%)\n",
      "Predicted sentiment: 82.45% positive, 17.55% negative\n",
      "Predicted sentiment: 2.18% positive, 97.82% negative\n"
     ]
    }
   ],
   "source": [
    "# TODO: Implement some evaluation measures (e.g. True/False Positives/Negatives and Precision, Recall, F1-score)\n",
    "\n",
    "def batch_inference():\n",
    "    # build_identities_matrix('test.csv', 'idsMatrix_test', 'labelsMatrix_test')\n",
    "    identities_matrix = load_numpy_array('idsMatrix_test.npy')\n",
    "    labels_matrix = load_numpy_array('labelsMatrix_test.npy')\n",
    "\n",
    "    incorrect_predictions = []\n",
    "    identities_batches, labels_batches = get_batches(identities_matrix, labels_matrix)\n",
    "    for batch_number, (identities_batch, labels_batch) in enumerate(zip(identities_batches, labels_batches), 1):\n",
    "        prediction_results = session.run(is_prediction_correct, {batch_placeholder: identities_batch, labels_placeholder: labels_batch})\n",
    "        for result_index, result in enumerate(prediction_results, 0):\n",
    "            if result == False:\n",
    "                incorrect_predictions.append(result_index)\n",
    "        if batch_number % (len(identities_batches) // 50) == 0:\n",
    "            print('#', end='')\n",
    "\n",
    "    # TODO: Handle prediction results (e.g. compute evaluation measures, save them to a *.csv file for further fine-tuning).\n",
    "    print('\\nIncorrect predictions: {} ({:.2f}%)'.format(len(incorrect_predictions), (len(incorrect_predictions) / TESTING_SAMPLES) * 100))\n",
    "\n",
    "def simple_inference(sentence):\n",
    "    network_input = np.zeros((BATCH_SIZE, MAX_WORDS_PER_SENTENCE))\n",
    "    splitted_sentence = sentence.split()    \n",
    "    for word_index, word in enumerate(splitted_sentence, 0):\n",
    "        try:\n",
    "            network_input[0, word_index] = words_list.index(word)\n",
    "        except ValueError:\n",
    "            network_input[0, word_index] = len(words_list) - 1\n",
    "\n",
    "    prediction_result = session.run(tf.nn.softmax(prediction), {batch_placeholder: network_input})[0]\n",
    "    print('Predicted sentiment: {:.2f}% positive, {:.2f}% negative'.format(prediction_result[0] * 100, prediction_result[1] * 100))\n",
    "\n",
    "batch_inference()\n",
    "simple_inference('I am rather happy than sad.')\n",
    "simple_inference('I am rather sad than happy.')"
   ]
  },
  {
   "cell_type": "code",
   "execution_count": null,
   "metadata": {
    "collapsed": true
   },
   "outputs": [],
   "source": []
  }
 ],
 "metadata": {
  "kernelspec": {
   "display_name": "Python 3",
   "language": "python",
   "name": "python3"
  },
  "language_info": {
   "codemirror_mode": {
    "name": "ipython",
    "version": 3
   },
   "file_extension": ".py",
   "mimetype": "text/x-python",
   "name": "python",
   "nbconvert_exporter": "python",
   "pygments_lexer": "ipython3",
   "version": "3.6.2"
  }
 },
 "nbformat": 4,
 "nbformat_minor": 2
}
